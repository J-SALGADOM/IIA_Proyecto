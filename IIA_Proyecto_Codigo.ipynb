{
 "cells": [
  {
   "cell_type": "markdown",
   "id": "e2948e62",
   "metadata": {},
   "source": [
    "---\n",
    "# COM4402 INTRODUCCIÓN A LA INTELIGENCIA ARTIFICIAL - PROYECTO FINAL\n",
    "---\n"
   ]
  },
  {
   "cell_type": "markdown",
   "id": "823ea6a6",
   "metadata": {},
   "source": [
    "- INTEGRANTES: KEVIN FUENTES N. Y JOSÉ SALGADO M.\n",
    "- DOCENTE: HABRIEL CABAS M.\n",
    "- AYUDANTE: NAIRO TORRES F."
   ]
  },
  {
   "cell_type": "markdown",
   "id": "03dfa48b",
   "metadata": {},
   "source": [
    "---\n",
    "## PARTE 1 - CARGA DE ARCHIVOS Y ANÁLISIS EXPLORATORIO DE DATOS\n",
    "---"
   ]
  },
  {
   "cell_type": "code",
   "execution_count": 241,
   "id": "a795d944",
   "metadata": {},
   "outputs": [],
   "source": [
    "# CARGAMOS LAS LIBRERIAS NECESARIAS\n",
    "import pandas as pd\n",
    "import numpy as np\n",
    "import matplotlib.pyplot as plt\n",
    "import seaborn as sns\n",
    "from sklearn.preprocessing import StandardScaler\n",
    "from sklearn.decomposition import PCA\n",
    "from sklearn.model_selection import train_test_split\n",
    "from sklearn.linear_model import LinearRegression\n",
    "from sklearn.neighbors import KNeighborsRegressor\n",
    "from sklearn.ensemble import RandomForestRegressor\n",
    "from sklearn.metrics import mean_squared_error, r2_score\n",
    "from sklearn.metrics import mean_absolute_error, mean_absolute_percentage_error\n",
    "from sklearn.preprocessing import LabelEncoder\n",
    "from sklearn.model_selection import cross_val_score\n"
   ]
  },
  {
   "cell_type": "code",
   "execution_count": 242,
   "id": "bc01f797",
   "metadata": {},
   "outputs": [
    {
     "data": {
      "text/html": [
       "<div>\n",
       "<style scoped>\n",
       "    .dataframe tbody tr th:only-of-type {\n",
       "        vertical-align: middle;\n",
       "    }\n",
       "\n",
       "    .dataframe tbody tr th {\n",
       "        vertical-align: top;\n",
       "    }\n",
       "\n",
       "    .dataframe thead th {\n",
       "        text-align: right;\n",
       "    }\n",
       "</style>\n",
       "<table border=\"1\" class=\"dataframe\">\n",
       "  <thead>\n",
       "    <tr style=\"text-align: right;\">\n",
       "      <th></th>\n",
       "      <th>Unnamed: 0</th>\n",
       "      <th>price</th>\n",
       "      <th>brand</th>\n",
       "      <th>model</th>\n",
       "      <th>year</th>\n",
       "      <th>title_status</th>\n",
       "      <th>mileage</th>\n",
       "      <th>color</th>\n",
       "      <th>vin</th>\n",
       "      <th>lot</th>\n",
       "      <th>state</th>\n",
       "      <th>country</th>\n",
       "      <th>condition</th>\n",
       "    </tr>\n",
       "  </thead>\n",
       "  <tbody>\n",
       "    <tr>\n",
       "      <th>0</th>\n",
       "      <td>0</td>\n",
       "      <td>6300</td>\n",
       "      <td>toyota</td>\n",
       "      <td>cruiser</td>\n",
       "      <td>2008</td>\n",
       "      <td>clean vehicle</td>\n",
       "      <td>274117.0</td>\n",
       "      <td>black</td>\n",
       "      <td>jtezu11f88k007763</td>\n",
       "      <td>159348797</td>\n",
       "      <td>new jersey</td>\n",
       "      <td>usa</td>\n",
       "      <td>10 days left</td>\n",
       "    </tr>\n",
       "    <tr>\n",
       "      <th>1</th>\n",
       "      <td>1</td>\n",
       "      <td>2899</td>\n",
       "      <td>ford</td>\n",
       "      <td>se</td>\n",
       "      <td>2011</td>\n",
       "      <td>clean vehicle</td>\n",
       "      <td>190552.0</td>\n",
       "      <td>silver</td>\n",
       "      <td>2fmdk3gc4bbb02217</td>\n",
       "      <td>166951262</td>\n",
       "      <td>tennessee</td>\n",
       "      <td>usa</td>\n",
       "      <td>6 days left</td>\n",
       "    </tr>\n",
       "    <tr>\n",
       "      <th>2</th>\n",
       "      <td>2</td>\n",
       "      <td>5350</td>\n",
       "      <td>dodge</td>\n",
       "      <td>mpv</td>\n",
       "      <td>2018</td>\n",
       "      <td>clean vehicle</td>\n",
       "      <td>39590.0</td>\n",
       "      <td>silver</td>\n",
       "      <td>3c4pdcgg5jt346413</td>\n",
       "      <td>167655728</td>\n",
       "      <td>georgia</td>\n",
       "      <td>usa</td>\n",
       "      <td>2 days left</td>\n",
       "    </tr>\n",
       "    <tr>\n",
       "      <th>3</th>\n",
       "      <td>3</td>\n",
       "      <td>25000</td>\n",
       "      <td>ford</td>\n",
       "      <td>door</td>\n",
       "      <td>2014</td>\n",
       "      <td>clean vehicle</td>\n",
       "      <td>64146.0</td>\n",
       "      <td>blue</td>\n",
       "      <td>1ftfw1et4efc23745</td>\n",
       "      <td>167753855</td>\n",
       "      <td>virginia</td>\n",
       "      <td>usa</td>\n",
       "      <td>22 hours left</td>\n",
       "    </tr>\n",
       "    <tr>\n",
       "      <th>4</th>\n",
       "      <td>4</td>\n",
       "      <td>27700</td>\n",
       "      <td>chevrolet</td>\n",
       "      <td>1500</td>\n",
       "      <td>2018</td>\n",
       "      <td>clean vehicle</td>\n",
       "      <td>6654.0</td>\n",
       "      <td>red</td>\n",
       "      <td>3gcpcrec2jg473991</td>\n",
       "      <td>167763266</td>\n",
       "      <td>florida</td>\n",
       "      <td>usa</td>\n",
       "      <td>22 hours left</td>\n",
       "    </tr>\n",
       "  </tbody>\n",
       "</table>\n",
       "</div>"
      ],
      "text/plain": [
       "   Unnamed: 0  price      brand    model  year   title_status   mileage  \\\n",
       "0           0   6300     toyota  cruiser  2008  clean vehicle  274117.0   \n",
       "1           1   2899       ford       se  2011  clean vehicle  190552.0   \n",
       "2           2   5350      dodge      mpv  2018  clean vehicle   39590.0   \n",
       "3           3  25000       ford     door  2014  clean vehicle   64146.0   \n",
       "4           4  27700  chevrolet     1500  2018  clean vehicle    6654.0   \n",
       "\n",
       "    color                  vin        lot       state country      condition  \n",
       "0   black    jtezu11f88k007763  159348797  new jersey     usa   10 days left  \n",
       "1  silver    2fmdk3gc4bbb02217  166951262   tennessee     usa    6 days left  \n",
       "2  silver    3c4pdcgg5jt346413  167655728     georgia     usa    2 days left  \n",
       "3    blue    1ftfw1et4efc23745  167753855    virginia     usa  22 hours left  \n",
       "4     red    3gcpcrec2jg473991  167763266     florida     usa  22 hours left  "
      ]
     },
     "execution_count": 242,
     "metadata": {},
     "output_type": "execute_result"
    }
   ],
   "source": [
    "# CARGAMOS EL DATAFRAME Y VISUALIZAMOS PRIMERAS FILAS\n",
    "df = pd.read_csv('USA_cars_datasets.csv')\n",
    "df.head()"
   ]
  },
  {
   "cell_type": "code",
   "execution_count": 243,
   "id": "153ca0c6",
   "metadata": {},
   "outputs": [
    {
     "name": "stdout",
     "output_type": "stream",
     "text": [
      "Cantidad de filas: 2499\n",
      "Cantidad de columnas: 13\n"
     ]
    }
   ],
   "source": [
    "# OBTENER CANTIDAD DE FILAS Y DE COLUMNAS\n",
    "print(f'Cantidad de filas: {df.shape[0]}')\n",
    "print(f'Cantidad de columnas: {df.shape[1]}')"
   ]
  },
  {
   "cell_type": "code",
   "execution_count": 244,
   "id": "eddf2136",
   "metadata": {},
   "outputs": [
    {
     "data": {
      "text/plain": [
       "Unnamed: 0        int64\n",
       "price             int64\n",
       "brand            object\n",
       "model            object\n",
       "year              int64\n",
       "title_status     object\n",
       "mileage         float64\n",
       "color            object\n",
       "vin              object\n",
       "lot               int64\n",
       "state            object\n",
       "country          object\n",
       "condition        object\n",
       "dtype: object"
      ]
     },
     "execution_count": 244,
     "metadata": {},
     "output_type": "execute_result"
    }
   ],
   "source": [
    "# OBTENER EL TIPO DE DATOS DEL DATASET\n",
    "df.dtypes"
   ]
  },
  {
   "cell_type": "code",
   "execution_count": 245,
   "id": "0cfbc75b",
   "metadata": {},
   "outputs": [
    {
     "data": {
      "text/html": [
       "<div>\n",
       "<style scoped>\n",
       "    .dataframe tbody tr th:only-of-type {\n",
       "        vertical-align: middle;\n",
       "    }\n",
       "\n",
       "    .dataframe tbody tr th {\n",
       "        vertical-align: top;\n",
       "    }\n",
       "\n",
       "    .dataframe thead th {\n",
       "        text-align: right;\n",
       "    }\n",
       "</style>\n",
       "<table border=\"1\" class=\"dataframe\">\n",
       "  <thead>\n",
       "    <tr style=\"text-align: right;\">\n",
       "      <th></th>\n",
       "      <th>Unnamed: 0</th>\n",
       "      <th>price</th>\n",
       "      <th>year</th>\n",
       "      <th>mileage</th>\n",
       "      <th>lot</th>\n",
       "    </tr>\n",
       "  </thead>\n",
       "  <tbody>\n",
       "    <tr>\n",
       "      <th>count</th>\n",
       "      <td>2499.000000</td>\n",
       "      <td>2499.000000</td>\n",
       "      <td>2499.000000</td>\n",
       "      <td>2.499000e+03</td>\n",
       "      <td>2.499000e+03</td>\n",
       "    </tr>\n",
       "    <tr>\n",
       "      <th>mean</th>\n",
       "      <td>1249.000000</td>\n",
       "      <td>18767.671469</td>\n",
       "      <td>2016.714286</td>\n",
       "      <td>5.229869e+04</td>\n",
       "      <td>1.676914e+08</td>\n",
       "    </tr>\n",
       "    <tr>\n",
       "      <th>std</th>\n",
       "      <td>721.543484</td>\n",
       "      <td>12116.094936</td>\n",
       "      <td>3.442656</td>\n",
       "      <td>5.970552e+04</td>\n",
       "      <td>2.038772e+05</td>\n",
       "    </tr>\n",
       "    <tr>\n",
       "      <th>min</th>\n",
       "      <td>0.000000</td>\n",
       "      <td>0.000000</td>\n",
       "      <td>1973.000000</td>\n",
       "      <td>0.000000e+00</td>\n",
       "      <td>1.593488e+08</td>\n",
       "    </tr>\n",
       "    <tr>\n",
       "      <th>25%</th>\n",
       "      <td>624.500000</td>\n",
       "      <td>10200.000000</td>\n",
       "      <td>2016.000000</td>\n",
       "      <td>2.146650e+04</td>\n",
       "      <td>1.676253e+08</td>\n",
       "    </tr>\n",
       "    <tr>\n",
       "      <th>50%</th>\n",
       "      <td>1249.000000</td>\n",
       "      <td>16900.000000</td>\n",
       "      <td>2018.000000</td>\n",
       "      <td>3.536500e+04</td>\n",
       "      <td>1.677451e+08</td>\n",
       "    </tr>\n",
       "    <tr>\n",
       "      <th>75%</th>\n",
       "      <td>1873.500000</td>\n",
       "      <td>25555.500000</td>\n",
       "      <td>2019.000000</td>\n",
       "      <td>6.347250e+04</td>\n",
       "      <td>1.677798e+08</td>\n",
       "    </tr>\n",
       "    <tr>\n",
       "      <th>max</th>\n",
       "      <td>2498.000000</td>\n",
       "      <td>84900.000000</td>\n",
       "      <td>2020.000000</td>\n",
       "      <td>1.017936e+06</td>\n",
       "      <td>1.678055e+08</td>\n",
       "    </tr>\n",
       "  </tbody>\n",
       "</table>\n",
       "</div>"
      ],
      "text/plain": [
       "        Unnamed: 0         price         year       mileage           lot\n",
       "count  2499.000000   2499.000000  2499.000000  2.499000e+03  2.499000e+03\n",
       "mean   1249.000000  18767.671469  2016.714286  5.229869e+04  1.676914e+08\n",
       "std     721.543484  12116.094936     3.442656  5.970552e+04  2.038772e+05\n",
       "min       0.000000      0.000000  1973.000000  0.000000e+00  1.593488e+08\n",
       "25%     624.500000  10200.000000  2016.000000  2.146650e+04  1.676253e+08\n",
       "50%    1249.000000  16900.000000  2018.000000  3.536500e+04  1.677451e+08\n",
       "75%    1873.500000  25555.500000  2019.000000  6.347250e+04  1.677798e+08\n",
       "max    2498.000000  84900.000000  2020.000000  1.017936e+06  1.678055e+08"
      ]
     },
     "execution_count": 245,
     "metadata": {},
     "output_type": "execute_result"
    }
   ],
   "source": [
    "# OBTENER ESTADÍSTICAS BÁSICAS\n",
    "df.describe()"
   ]
  },
  {
   "cell_type": "code",
   "execution_count": 246,
   "id": "f5c44366",
   "metadata": {},
   "outputs": [
    {
     "data": {
      "text/plain": [
       "False"
      ]
     },
     "execution_count": 246,
     "metadata": {},
     "output_type": "execute_result"
    }
   ],
   "source": [
    "# VERIFICAR EXISTENCIA DE VALORES NULOS\n",
    "df.isnull().sum().any()"
   ]
  },
  {
   "cell_type": "code",
   "execution_count": 247,
   "id": "287437f4",
   "metadata": {},
   "outputs": [
    {
     "data": {
      "text/plain": [
       "brand\n",
       "ford               1235\n",
       "dodge               432\n",
       "nissan              312\n",
       "chevrolet           297\n",
       "gmc                  42\n",
       "jeep                 30\n",
       "chrysler             18\n",
       "bmw                  17\n",
       "hyundai              15\n",
       "kia                  13\n",
       "buick                13\n",
       "infiniti             12\n",
       "honda                12\n",
       "cadillac             10\n",
       "mercedes-benz        10\n",
       "heartland             5\n",
       "land                  4\n",
       "peterbilt             4\n",
       "audi                  4\n",
       "acura                 3\n",
       "lincoln               2\n",
       "lexus                 2\n",
       "mazda                 2\n",
       "maserati              1\n",
       "toyota                1\n",
       "harley-davidson       1\n",
       "jaguar                1\n",
       "ram                   1\n",
       "Name: count, dtype: int64"
      ]
     },
     "execution_count": 247,
     "metadata": {},
     "output_type": "execute_result"
    }
   ],
   "source": [
    "# CHEKEAMOS CANTIDAD DE VEHÍCULOS SEGÚN MARCA\n",
    "df['brand'].value_counts()"
   ]
  },
  {
   "cell_type": "code",
   "execution_count": 248,
   "id": "c0472553",
   "metadata": {},
   "outputs": [
    {
     "data": {
      "text/plain": [
       "<function matplotlib.pyplot.show(close=None, block=None)>"
      ]
     },
     "execution_count": 248,
     "metadata": {},
     "output_type": "execute_result"
    },
    {
     "data": {
      "image/png": "[encoded data removed]",
      "text/plain": [
       "<Figure size 1500x800 with 1 Axes>"
      ]
     },
     "metadata": {},
     "output_type": "display_data"
    }
   ],
   "source": [
    "# VISUALIZAMOS GRÁFICAMENTE LA INFORMACIÓN ANTERIOR\n",
    "plt.figure(figsize=(15,8))\n",
    "sns.countplot(data=df, x='brand')\n",
    "plt.xlabel('Marca')\n",
    "plt.xticks(rotation=90)\n",
    "plt.ylabel('Cantidad de vehículos')\n",
    "plt.title('Cantidad de vehículos según marca')\n",
    "plt.show"
   ]
  },
  {
   "cell_type": "markdown",
   "id": "6f215c0b",
   "metadata": {},
   "source": [
    "---\n",
    "## PARTE 2 - PREPROCESAMIENTO DE DATOS Y REDUCCIÓN DE DIMENSIONALIDAD\n",
    "---"
   ]
  },
  {
   "cell_type": "code",
   "execution_count": 249,
   "id": "9e2c8827",
   "metadata": {},
   "outputs": [
    {
     "data": {
      "text/html": [
       "<div>\n",
       "<style scoped>\n",
       "    .dataframe tbody tr th:only-of-type {\n",
       "        vertical-align: middle;\n",
       "    }\n",
       "\n",
       "    .dataframe tbody tr th {\n",
       "        vertical-align: top;\n",
       "    }\n",
       "\n",
       "    .dataframe thead th {\n",
       "        text-align: right;\n",
       "    }\n",
       "</style>\n",
       "<table border=\"1\" class=\"dataframe\">\n",
       "  <thead>\n",
       "    <tr style=\"text-align: right;\">\n",
       "      <th></th>\n",
       "      <th>price</th>\n",
       "      <th>brand</th>\n",
       "      <th>model</th>\n",
       "      <th>year</th>\n",
       "      <th>mileage</th>\n",
       "      <th>state</th>\n",
       "    </tr>\n",
       "  </thead>\n",
       "  <tbody>\n",
       "    <tr>\n",
       "      <th>0</th>\n",
       "      <td>6300</td>\n",
       "      <td>toyota</td>\n",
       "      <td>cruiser</td>\n",
       "      <td>2008</td>\n",
       "      <td>274117.0</td>\n",
       "      <td>new jersey</td>\n",
       "    </tr>\n",
       "    <tr>\n",
       "      <th>1</th>\n",
       "      <td>2899</td>\n",
       "      <td>ford</td>\n",
       "      <td>se</td>\n",
       "      <td>2011</td>\n",
       "      <td>190552.0</td>\n",
       "      <td>tennessee</td>\n",
       "    </tr>\n",
       "    <tr>\n",
       "      <th>2</th>\n",
       "      <td>5350</td>\n",
       "      <td>dodge</td>\n",
       "      <td>mpv</td>\n",
       "      <td>2018</td>\n",
       "      <td>39590.0</td>\n",
       "      <td>georgia</td>\n",
       "    </tr>\n",
       "    <tr>\n",
       "      <th>3</th>\n",
       "      <td>25000</td>\n",
       "      <td>ford</td>\n",
       "      <td>door</td>\n",
       "      <td>2014</td>\n",
       "      <td>64146.0</td>\n",
       "      <td>virginia</td>\n",
       "    </tr>\n",
       "    <tr>\n",
       "      <th>4</th>\n",
       "      <td>27700</td>\n",
       "      <td>chevrolet</td>\n",
       "      <td>1500</td>\n",
       "      <td>2018</td>\n",
       "      <td>6654.0</td>\n",
       "      <td>florida</td>\n",
       "    </tr>\n",
       "  </tbody>\n",
       "</table>\n",
       "</div>"
      ],
      "text/plain": [
       "   price      brand    model  year   mileage       state\n",
       "0   6300     toyota  cruiser  2008  274117.0  new jersey\n",
       "1   2899       ford       se  2011  190552.0   tennessee\n",
       "2   5350      dodge      mpv  2018   39590.0     georgia\n",
       "3  25000       ford     door  2014   64146.0    virginia\n",
       "4  27700  chevrolet     1500  2018    6654.0     florida"
      ]
     },
     "execution_count": 249,
     "metadata": {},
     "output_type": "execute_result"
    }
   ],
   "source": [
    "# ELIMINAMOS COLUMNAS IRRELEVANTES\n",
    "df = df.drop(columns=['Unnamed: 0', 'title_status', 'color', 'vin', 'lot', 'country', 'condition'])\n",
    "df.head()"
   ]
  },
  {
   "cell_type": "code",
   "execution_count": 250,
   "id": "40c20e76",
   "metadata": {},
   "outputs": [],
   "source": [
    "# Variables categóricas a codificar\n",
    "columnas_categoricas = ['brand', 'model', 'state']"
   ]
  },
  {
   "cell_type": "code",
   "execution_count": 251,
   "id": "12038d3c",
   "metadata": {},
   "outputs": [],
   "source": [
    "# Aplicar Label Encoding\n",
    "le = LabelEncoder()\n",
    "for col in columnas_categoricas:\n",
    "    df[col] = le.fit_transform(df[col])"
   ]
  },
  {
   "cell_type": "code",
   "execution_count": 252,
   "id": "a98fe783",
   "metadata": {},
   "outputs": [
    {
     "name": "stdout",
     "output_type": "stream",
     "text": [
      "   price  brand  model  year   mileage  state\n",
      "0   6300     27     25  2008  274117.0     24\n",
      "1   2899      8     92  2011  190552.0     35\n",
      "2   5350      7     75  2018   39590.0      7\n",
      "3  25000      8     32  2014   64146.0     39\n",
      "4  27700      5      0  2018    6654.0      6\n"
     ]
    }
   ],
   "source": [
    "# Revisar resultado\n",
    "print(df.head())"
   ]
  },
  {
   "cell_type": "code",
   "execution_count": 253,
   "id": "3500c0e9",
   "metadata": {},
   "outputs": [],
   "source": [
    "# Calcular la matriz de correlación\n",
    "correlation_matrix = df.corr(numeric_only=True)"
   ]
  },
  {
   "cell_type": "code",
   "execution_count": 254,
   "id": "f2754d8d",
   "metadata": {},
   "outputs": [
    {
     "data": {
      "image/png": "[encoded data removed]",
      "text/plain": [
       "<Figure size 1400x1000 with 2 Axes>"
      ]
     },
     "metadata": {},
     "output_type": "display_data"
    }
   ],
   "source": [
    "# Graficar con paleta tipo pastel similar a la del gráfico\n",
    "plt.figure(figsize=(14, 10))\n",
    "sns.heatmap(correlation_matrix, annot=True, fmt=\".2f\", square=True)\n",
    "plt.title(\"Matriz de Correlación - Paleta Set3 (Estilo pastel)\")\n",
    "plt.tight_layout()\n",
    "plt.show()"
   ]
  },
  {
   "cell_type": "markdown",
   "id": "55744727",
   "metadata": {},
   "source": [
    "---\n",
    "## PARTE 3 - ENTRENAMIENTO Y EVALUACIÓN DE MODELOS\n",
    "---"
   ]
  },
  {
   "cell_type": "markdown",
   "id": "8085f328",
   "metadata": {},
   "source": [
    "REGRESIÓN LINEAL"
   ]
  },
  {
   "cell_type": "code",
   "execution_count": 255,
   "id": "bb2adffd",
   "metadata": {},
   "outputs": [],
   "source": [
    "# SEPARAMOS LAS VARIABLE PRICE\n",
    "X = df.drop(columns=['price'])\n",
    "y = df['price']"
   ]
  },
  {
   "cell_type": "markdown",
   "id": "7729b191",
   "metadata": {},
   "source": [
    "REGRESIÓN SIN PCA"
   ]
  },
  {
   "cell_type": "code",
   "execution_count": 256,
   "id": "dc8b9e37",
   "metadata": {},
   "outputs": [],
   "source": [
    "# Escalamiento\n",
    "scaler = StandardScaler()\n",
    "X_scaled = scaler.fit_transform(X)"
   ]
  },
  {
   "cell_type": "code",
   "execution_count": 257,
   "id": "1c27a764",
   "metadata": {},
   "outputs": [],
   "source": [
    "X_train, X_test, y_train, y_test = train_test_split(X_scaled, y, test_size=0.2, random_state=42)\n"
   ]
  },
  {
   "cell_type": "code",
   "execution_count": 258,
   "id": "7d607d54",
   "metadata": {},
   "outputs": [],
   "source": [
    "modelo_lr = LinearRegression()\n",
    "modelo_lr.fit(X_train, y_train)\n",
    "y_pred_lr = modelo_lr.predict(X_test)"
   ]
  },
  {
   "cell_type": "code",
   "execution_count": 259,
   "id": "b57db15d",
   "metadata": {},
   "outputs": [
    {
     "name": "stdout",
     "output_type": "stream",
     "text": [
      "\n",
      "Regresión Lineal sin PCA\n",
      "Mean Squared Error (MSE):     111986607.93\n",
      "Mean Absolute Error (MAE):    7850.04\n",
      "Mean Absolute Percentage Error: 556885921375578240.0000\n",
      "R² Score:                     0.2934\n"
     ]
    }
   ],
   "source": [
    "evaluar_modelo(\"Regresión Lineal sin PCA\", y_test, y_pred_lr)"
   ]
  },
  {
   "cell_type": "code",
   "execution_count": 260,
   "id": "a5bb871a",
   "metadata": {},
   "outputs": [
    {
     "name": "stdout",
     "output_type": "stream",
     "text": [
      "R² promedio (CV): 0.17\n"
     ]
    }
   ],
   "source": [
    "scores = cross_val_score(LinearRegression(), X_scaled, y, scoring='r2', cv=5)\n",
    "print(\"R² promedio (CV):\", scores.mean().round(2))"
   ]
  },
  {
   "cell_type": "markdown",
   "id": "946adbef",
   "metadata": {},
   "source": [
    "REGRESIÓN CON PCA"
   ]
  },
  {
   "cell_type": "code",
   "execution_count": 261,
   "id": "3d939e22",
   "metadata": {},
   "outputs": [],
   "source": [
    "# 3. Escalamiento\n",
    "scaler = StandardScaler()\n",
    "X_scaled = scaler.fit_transform(X)"
   ]
  },
  {
   "cell_type": "code",
   "execution_count": 262,
   "id": "ae5b73fa",
   "metadata": {},
   "outputs": [],
   "source": [
    "# 4. Aplicar PCA\n",
    "pca = PCA()\n",
    "X_pca = pca.fit_transform(X_scaled)"
   ]
  },
  {
   "cell_type": "code",
   "execution_count": 263,
   "id": "3dba23b5",
   "metadata": {},
   "outputs": [],
   "source": [
    "# 5. Dividir datos\n",
    "X_train, X_test, y_train, y_test = train_test_split(X_pca, y, test_size=0.2, random_state=42)"
   ]
  },
  {
   "cell_type": "code",
   "execution_count": 264,
   "id": "4db829ef",
   "metadata": {},
   "outputs": [
    {
     "data": {
      "text/html": [
       "<style>#sk-container-id-1 {color: black;}#sk-container-id-1 pre{padding: 0;}#sk-container-id-1 div.sk-toggleable {background-color: white;}#sk-container-id-1 label.sk-toggleable__label {cursor: pointer;display: block;width: 100%;margin-bottom: 0;padding: 0.3em;box-sizing: border-box;text-align: center;}#sk-container-id-1 label.sk-toggleable__label-arrow:before {content: \"▸\";float: left;margin-right: 0.25em;color: #696969;}#sk-container-id-1 label.sk-toggleable__label-arrow:hover:before {color: black;}#sk-container-id-1 div.sk-estimator:hover label.sk-toggleable__label-arrow:before {color: black;}#sk-container-id-1 div.sk-toggleable__content {max-height: 0;max-width: 0;overflow: hidden;text-align: left;background-color: #f0f8ff;}#sk-container-id-1 div.sk-toggleable__content pre {margin: 0.2em;color: black;border-radius: 0.25em;background-color: #f0f8ff;}#sk-container-id-1 input.sk-toggleable__control:checked~div.sk-toggleable__content {max-height: 200px;max-width: 100%;overflow: auto;}#sk-container-id-1 input.sk-toggleable__control:checked~label.sk-toggleable__label-arrow:before {content: \"▾\";}#sk-container-id-1 div.sk-estimator input.sk-toggleable__control:checked~label.sk-toggleable__label {background-color: #d4ebff;}#sk-container-id-1 div.sk-label input.sk-toggleable__control:checked~label.sk-toggleable__label {background-color: #d4ebff;}#sk-container-id-1 input.sk-hidden--visually {border: 0;clip: rect(1px 1px 1px 1px);clip: rect(1px, 1px, 1px, 1px);height: 1px;margin: -1px;overflow: hidden;padding: 0;position: absolute;width: 1px;}#sk-container-id-1 div.sk-estimator {font-family: monospace;background-color: #f0f8ff;border: 1px dotted black;border-radius: 0.25em;box-sizing: border-box;margin-bottom: 0.5em;}#sk-container-id-1 div.sk-estimator:hover {background-color: #d4ebff;}#sk-container-id-1 div.sk-parallel-item::after {content: \"\";width: 100%;border-bottom: 1px solid gray;flex-grow: 1;}#sk-container-id-1 div.sk-label:hover label.sk-toggleable__label {background-color: #d4ebff;}#sk-container-id-1 div.sk-serial::before {content: \"\";position: absolute;border-left: 1px solid gray;box-sizing: border-box;top: 0;bottom: 0;left: 50%;z-index: 0;}#sk-container-id-1 div.sk-serial {display: flex;flex-direction: column;align-items: center;background-color: white;padding-right: 0.2em;padding-left: 0.2em;position: relative;}#sk-container-id-1 div.sk-item {position: relative;z-index: 1;}#sk-container-id-1 div.sk-parallel {display: flex;align-items: stretch;justify-content: center;background-color: white;position: relative;}#sk-container-id-1 div.sk-item::before, #sk-container-id-1 div.sk-parallel-item::before {content: \"\";position: absolute;border-left: 1px solid gray;box-sizing: border-box;top: 0;bottom: 0;left: 50%;z-index: -1;}#sk-container-id-1 div.sk-parallel-item {display: flex;flex-direction: column;z-index: 1;position: relative;background-color: white;}#sk-container-id-1 div.sk-parallel-item:first-child::after {align-self: flex-end;width: 50%;}#sk-container-id-1 div.sk-parallel-item:last-child::after {align-self: flex-start;width: 50%;}#sk-container-id-1 div.sk-parallel-item:only-child::after {width: 0;}#sk-container-id-1 div.sk-dashed-wrapped {border: 1px dashed gray;margin: 0 0.4em 0.5em 0.4em;box-sizing: border-box;padding-bottom: 0.4em;background-color: white;}#sk-container-id-1 div.sk-label label {font-family: monospace;font-weight: bold;display: inline-block;line-height: 1.2em;}#sk-container-id-1 div.sk-label-container {text-align: center;}#sk-container-id-1 div.sk-container {/* jupyter's `normalize.less` sets `[hidden] { display: none; }` but bootstrap.min.css set `[hidden] { display: none !important; }` so we also need the `!important` here to be able to override the default hidden behavior on the sphinx rendered scikit-learn.org. See: https://github.com/scikit-learn/scikit-learn/issues/21755 */display: inline-block !important;position: relative;}#sk-container-id-1 div.sk-text-repr-fallback {display: none;}</style><div id=\"sk-container-id-1\" class=\"sk-top-container\"><div class=\"sk-text-repr-fallback\"><pre>LinearRegression()</pre><b>In a Jupyter environment, please rerun this cell to show the HTML representation or trust the notebook. <br />On GitHub, the HTML representation is unable to render, please try loading this page with nbviewer.org.</b></div><div class=\"sk-container\" hidden><div class=\"sk-item\"><div class=\"sk-estimator sk-toggleable\"><input class=\"sk-toggleable__control sk-hidden--visually\" id=\"sk-estimator-id-1\" type=\"checkbox\" checked><label for=\"sk-estimator-id-1\" class=\"sk-toggleable__label sk-toggleable__label-arrow\">LinearRegression</label><div class=\"sk-toggleable__content\"><pre>LinearRegression()</pre></div></div></div></div></div>"
      ],
      "text/plain": [
       "LinearRegression()"
      ]
     },
     "execution_count": 264,
     "metadata": {},
     "output_type": "execute_result"
    }
   ],
   "source": [
    "# 6. Entrenar modelo de regresión lineal\n",
    "modelo_lr = LinearRegression()\n",
    "modelo_lr.fit(X_train, y_train)"
   ]
  },
  {
   "cell_type": "code",
   "execution_count": 265,
   "id": "9610bba9",
   "metadata": {},
   "outputs": [],
   "source": [
    "# 7. Predicción\n",
    "y_pred_lr = modelo_lr.predict(X_test)"
   ]
  },
  {
   "cell_type": "code",
   "execution_count": 266,
   "id": "514bad06",
   "metadata": {},
   "outputs": [
    {
     "name": "stdout",
     "output_type": "stream",
     "text": [
      "\n",
      "Regresión Lineal con PCA\n",
      "Mean Squared Error (MSE):     111986607.93\n",
      "Mean Absolute Error (MAE):    7850.04\n",
      "Mean Absolute Percentage Error: 556885921375578368.0000\n",
      "R² Score:                     0.2934\n"
     ]
    }
   ],
   "source": [
    "# 8. Evaluación\n",
    "def evaluar_modelo(nombre, y_real, y_pred):\n",
    "    mse = mean_squared_error(y_real, y_pred)\n",
    "    mae = mean_absolute_error(y_real, y_pred)\n",
    "    mape = mean_absolute_percentage_error(y_real, y_pred)\n",
    "    r2 = r2_score(y_real, y_pred)\n",
    "    \n",
    "    print(f\"\\n{nombre}\")\n",
    "    print(f\"Mean Squared Error (MSE):     {mse:.2f}\")\n",
    "    print(f\"Mean Absolute Error (MAE):    {mae:.2f}\")\n",
    "    print(f\"Mean Absolute Percentage Error: {mape:.4f}\")\n",
    "    print(f\"R² Score:                     {r2:.4f}\")\n",
    "\n",
    "evaluar_modelo(\"Regresión Lineal con PCA\", y_test, y_pred_lr)"
   ]
  },
  {
   "cell_type": "code",
   "execution_count": 267,
   "id": "5a393a1b",
   "metadata": {},
   "outputs": [
    {
     "name": "stdout",
     "output_type": "stream",
     "text": [
      "R² promedio (CV): 0.17\n"
     ]
    }
   ],
   "source": [
    "# 9. Validación cruzada\n",
    "scores = cross_val_score(LinearRegression(), X_pca, y, scoring='r2', cv=5)\n",
    "print(\"R² promedio (CV):\", scores.mean().round(2))"
   ]
  },
  {
   "cell_type": "markdown",
   "id": "25f278fc",
   "metadata": {},
   "source": [
    "RANDON FOREST REGRESIÓN "
   ]
  },
  {
   "cell_type": "markdown",
   "id": "322a9f76",
   "metadata": {},
   "source": [
    "RANDOM FOREST REGRESIÓN CON PCA"
   ]
  },
  {
   "cell_type": "code",
   "execution_count": 268,
   "id": "e96abc20",
   "metadata": {},
   "outputs": [
    {
     "name": "stdout",
     "output_type": "stream",
     "text": [
      "\n",
      "Random Forest sin PCA\n",
      "Mean Squared Error (MSE):     49,937,531.59\n",
      "Mean Absolute Error (MAE):    4,552.42\n",
      "Mean Absolute Percentage Error: 215365646988566496.0000\n",
      "R² Score:                     0.6849\n",
      "R² promedio (CV): 0.34782760652004685\n"
     ]
    }
   ],
   "source": [
    "\n",
    "# División en entrenamiento y prueba\n",
    "X_train, X_test, y_train, y_test = train_test_split(X_scaled, y, test_size=0.2, random_state=42)\n",
    "\n",
    "# Entrenamiento del modelo\n",
    "modelo_rf = RandomForestRegressor(random_state=42)\n",
    "modelo_rf.fit(X_train, y_train)\n",
    "\n",
    "# Predicciones\n",
    "y_pred_rf = modelo_rf.predict(X_test)\n",
    "\n",
    "# Evaluación\n",
    "def evaluar_modelo(nombre, y_real, y_pred):\n",
    "    mse = mean_squared_error(y_real, y_pred)\n",
    "    mae = mean_absolute_error(y_real, y_pred)\n",
    "    mape = mean_absolute_percentage_error(y_real, y_pred)\n",
    "    r2 = r2_score(y_real, y_pred)\n",
    "\n",
    "    print(f\"\\n{nombre}\")\n",
    "    print(f\"Mean Squared Error (MSE):     {mse:,.2f}\")\n",
    "    print(f\"Mean Absolute Error (MAE):    {mae:,.2f}\")\n",
    "    print(f\"Mean Absolute Percentage Error: {mape:.4f}\")\n",
    "    print(f\"R² Score:                     {r2:.4f}\")\n",
    "\n",
    "# Mostrar resultados\n",
    "evaluar_modelo(\"Random Forest sin PCA\", y_test, y_pred_rf)\n",
    "\n",
    "# Validación cruzada (cross-validation)\n",
    "scores_rf = cross_val_score(RandomForestRegressor(random_state=42), X_scaled, y, scoring='r2', cv=5)\n",
    "print(f\"R² promedio (CV): {scores_rf.mean()}\")"
   ]
  },
  {
   "cell_type": "markdown",
   "id": "134846d4",
   "metadata": {},
   "source": [
    "RANDOM FOREST REGRESIÓN CON PCA"
   ]
  },
  {
   "cell_type": "code",
   "execution_count": 269,
   "id": "48b1fc39",
   "metadata": {},
   "outputs": [
    {
     "name": "stdout",
     "output_type": "stream",
     "text": [
      "\n",
      "Random Forest con PCA\n",
      "Mean Squared Error (MSE):     49,937,531.59\n",
      "Mean Absolute Error (MAE):    4,552.42\n",
      "Mean Absolute Percentage Error: 215365646988566496.0000\n",
      "R² Score:                     0.6849\n",
      "R² promedio (CV): -0.07885461696283373\n"
     ]
    }
   ],
   "source": [
    "# Entrenamiento del modelo\n",
    "modelo_rf = RandomForestRegressor(random_state=42)\n",
    "modelo_rf.fit(X_train, y_train)\n",
    "\n",
    "# Predicción\n",
    "y_pred_rf = modelo_rf.predict(X_test)\n",
    "\n",
    "# Evaluación\n",
    "def evaluar_modelo(nombre, y_real, y_pred):\n",
    "    mse = mean_squared_error(y_real, y_pred)\n",
    "    mae = mean_absolute_error(y_real, y_pred)\n",
    "    mape = mean_absolute_percentage_error(y_real, y_pred)\n",
    "    r2 = r2_score(y_real, y_pred)\n",
    "\n",
    "    print(f\"\\n{nombre}\")\n",
    "    print(f\"Mean Squared Error (MSE):     {mse:,.2f}\")\n",
    "    print(f\"Mean Absolute Error (MAE):    {mae:,.2f}\")\n",
    "    print(f\"Mean Absolute Percentage Error: {mape:.4f}\")\n",
    "    print(f\"R² Score:                     {r2:.4f}\")\n",
    "\n",
    "# Mostrar métricas\n",
    "evaluar_modelo(\"Random Forest con PCA\", y_test, y_pred_rf)\n",
    "\n",
    "# Cross-validation\n",
    "scores_rf = cross_val_score(RandomForestRegressor(random_state=42), X_pca, y, scoring='r2', cv=5)\n",
    "print(f\"R² promedio (CV): {scores_rf.mean()}\")"
   ]
  },
  {
   "cell_type": "markdown",
   "id": "5047a396",
   "metadata": {},
   "source": [
    " KNN Regressor"
   ]
  },
  {
   "cell_type": "markdown",
   "id": "9a2cb2bf",
   "metadata": {},
   "source": [
    " KNN Regressor SIN PCA"
   ]
  },
  {
   "cell_type": "code",
   "execution_count": 274,
   "id": "14e5acab",
   "metadata": {},
   "outputs": [
    {
     "name": "stdout",
     "output_type": "stream",
     "text": [
      "\n",
      "KNN Regressor sin PCA\n",
      "Mean Squared Error (MSE):     66,550,004.25\n",
      "Mean Absolute Error (MAE):    5,508.69\n",
      "Mean Absolute Percentage Error: 148454856676790080.0000\n",
      "R² Score:                     0.5801\n",
      "R² promedio (CV): -0.15173794191965545\n"
     ]
    }
   ],
   "source": [
    "from sklearn.neighbors import KNeighborsRegressor\n",
    "from sklearn.metrics import mean_squared_error, mean_absolute_error, r2_score, mean_absolute_percentage_error\n",
    "from sklearn.model_selection import train_test_split, cross_val_score\n",
    "\n",
    "# Supone que ya tienes:\n",
    "# X_scaled: variables numéricas escaladas (sin PCA)\n",
    "# y: variable objetivo (price)\n",
    "\n",
    "# División de datos\n",
    "X_train, X_test, y_train, y_test = train_test_split(X_scaled, y, test_size=0.2, random_state=42)\n",
    "\n",
    "# Crear modelo KNN\n",
    "modelo_knn = KNeighborsRegressor(n_neighbors=5)\n",
    "modelo_knn.fit(X_train, y_train)\n",
    "\n",
    "# Predicciones\n",
    "y_pred_knn = modelo_knn.predict(X_test)\n",
    "\n",
    "# Evaluación\n",
    "def evaluar_modelo(nombre, y_real, y_pred):\n",
    "    mse = mean_squared_error(y_real, y_pred)\n",
    "    mae = mean_absolute_error(y_real, y_pred)\n",
    "    mape = mean_absolute_percentage_error(y_real, y_pred)\n",
    "    r2 = r2_score(y_real, y_pred)\n",
    "\n",
    "    print(f\"\\n{nombre}\")\n",
    "    print(f\"Mean Squared Error (MSE):     {mse:,.2f}\")\n",
    "    print(f\"Mean Absolute Error (MAE):    {mae:,.2f}\")\n",
    "    print(f\"Mean Absolute Percentage Error: {mape:.4f}\")\n",
    "    print(f\"R² Score:                     {r2:.4f}\")\n",
    "\n",
    "# Mostrar métricas\n",
    "evaluar_modelo(\"KNN Regressor sin PCA\", y_test, y_pred_knn)\n",
    "\n",
    "# Validación cruzada\n",
    "scores_knn = cross_val_score(KNeighborsRegressor(n_neighbors=5), X_scaled, y, scoring='r2', cv=5)\n",
    "print(f\"R² promedio (CV): {scores_knn.mean()}\")\n"
   ]
  },
  {
   "cell_type": "code",
   "execution_count": 273,
   "id": "79b61480",
   "metadata": {},
   "outputs": [
    {
     "name": "stdout",
     "output_type": "stream",
     "text": [
      "\n",
      "KNN Regressor con PCA\n",
      "Mean Squared Error (MSE):     66,550,004.25\n",
      "Mean Absolute Error (MAE):    5,508.69\n",
      "Mean Absolute Percentage Error: 148454856676790080.0000\n",
      "R² Score:                     0.5801\n",
      "R² promedio (CV): -0.15173794191965545\n"
     ]
    }
   ],
   "source": [
    "from sklearn.decomposition import PCA\n",
    "from sklearn.preprocessing import StandardScaler\n",
    "from sklearn.neighbors import KNeighborsRegressor\n",
    "from sklearn.model_selection import train_test_split, cross_val_score\n",
    "from sklearn.metrics import mean_squared_error, mean_absolute_error, r2_score, mean_absolute_percentage_error\n",
    "\n",
    "# 1. Escalamiento\n",
    "scaler = StandardScaler()\n",
    "X_scaled = scaler.fit_transform(X)  # X: dataframe sin la columna 'price'\n",
    "y = df['price']                     # y: columna objetivo\n",
    "\n",
    "# 2. Reducción de dimensionalidad con PCA\n",
    "pca = PCA(n_components=0.95)  # mantener 95% de la varianza\n",
    "X_pca = pca.fit_transform(X_scaled)\n",
    "\n",
    "# 3. División de datos\n",
    "X_train, X_test, y_train, y_test = train_test_split(X_pca, y, test_size=0.2, random_state=42)\n",
    "\n",
    "# 4. Entrenamiento del modelo\n",
    "modelo_knn = KNeighborsRegressor(n_neighbors=5)\n",
    "modelo_knn.fit(X_train, y_train)\n",
    "\n",
    "# 5. Predicción\n",
    "y_pred_knn = modelo_knn.predict(X_test)\n",
    "\n",
    "# 6. Evaluación\n",
    "def evaluar_modelo(nombre, y_real, y_pred):\n",
    "    mse = mean_squared_error(y_real, y_pred)\n",
    "    mae = mean_absolute_error(y_real, y_pred)\n",
    "    mape = mean_absolute_percentage_error(y_real, y_pred)\n",
    "    r2 = r2_score(y_real, y_pred)\n",
    "\n",
    "    print(f\"\\n{nombre}\")\n",
    "    print(f\"Mean Squared Error (MSE):     {mse:,.2f}\")\n",
    "    print(f\"Mean Absolute Error (MAE):    {mae:,.2f}\")\n",
    "    print(f\"Mean Absolute Percentage Error: {mape:.4f}\")\n",
    "    print(f\"R² Score:                     {r2:.4f}\")\n",
    "\n",
    "# Mostrar métricas\n",
    "evaluar_modelo(\"KNN Regressor con PCA\", y_test, y_pred_knn)\n",
    "\n",
    "# 7. Validación cruzada\n",
    "scores_knn_pca = cross_val_score(KNeighborsRegressor(n_neighbors=5), X_pca, y, scoring='r2', cv=5)\n",
    "print(f\"R² promedio (CV): {scores_knn_pca.mean()}\")\n"
   ]
  },
  {
   "cell_type": "markdown",
   "id": "8b93ff1a",
   "metadata": {},
   "source": [
    "---\n",
    "## PARTE 4 - COMPARACIÓN FINAL DE MODELOS Y CONCLUSIÓN\n",
    "---"
   ]
  }
 ],
 "metadata": {
  "kernelspec": {
   "display_name": "base",
   "language": "python",
   "name": "python3"
  },
  "language_info": {
   "codemirror_mode": {
    "name": "ipython",
    "version": 3
   },
   "file_extension": ".py",
   "mimetype": "text/x-python",
   "name": "python",
   "nbconvert_exporter": "python",
   "pygments_lexer": "ipython3",
   "version": "3.11.5"
  }
 },
 "nbformat": 4,
 "nbformat_minor": 5
}
